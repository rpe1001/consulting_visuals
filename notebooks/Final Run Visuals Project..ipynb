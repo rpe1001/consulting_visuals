{
 "cells": [
  {
   "cell_type": "code",
   "execution_count": 11,
   "metadata": {},
   "outputs": [],
   "source": [
    "# Import and Cleaning Data\n",
    "import pandas as pd\n",
    "import data_work\n",
    "import matplotlib.pyplot as plt\n",
    "import matplotlib.ticker as mtick\n",
    "df = data_work.load_data()\n",
    "df = data_work.clean_values(df)\n",
    "df = data_work.summary_calculations(df)\n",
    "df_detail = data_work.detail_calculations(df)"
   ]
  },
  {
   "cell_type": "markdown",
   "metadata": {},
   "source": [
    "# How much does each industry owe?"
   ]
  },
  {
   "cell_type": "markdown",
   "metadata": {},
   "source": [
    "## The graph below groups each industry together and shows us the total contract amount due. For simplicity we have decided to look at the top 5 industries that owe the most. We can see that the Major Banks owe the most amount out of any industry with an amount due of 21,005,700. The industry that owes the second most is Major Pharmaceuticals with 16,842,400 which is 4,163,300 less than Major Banks. This graph is important because it shows us where our top 5 main focuses should be. It helps us prioritize our top industrys from our bottom industrys. It shows us that we should focus on Major Banks, Major Pharmaceuticals, Real Estate Investment Trusts, Property-Casualty Insurers and Beverage Production/Distribution rather than our other industries towards the bottom such as Electric Components \n"
   ]
  },
  {
   "cell_type": "code",
   "execution_count": 7,
   "metadata": {},
   "outputs": [
    {
     "data": {
      "text/html": [
       "<div>\n",
       "<style scoped>\n",
       "    .dataframe tbody tr th:only-of-type {\n",
       "        vertical-align: middle;\n",
       "    }\n",
       "\n",
       "    .dataframe tbody tr th {\n",
       "        vertical-align: top;\n",
       "    }\n",
       "\n",
       "    .dataframe thead th {\n",
       "        text-align: right;\n",
       "    }\n",
       "</style>\n",
       "<table border=\"1\" class=\"dataframe\">\n",
       "  <thead>\n",
       "    <tr style=\"text-align: right;\">\n",
       "      <th></th>\n",
       "      <th>industry</th>\n",
       "      <th>amt_due</th>\n",
       "    </tr>\n",
       "  </thead>\n",
       "  <tbody>\n",
       "    <tr>\n",
       "      <th>32</th>\n",
       "      <td>Major Banks</td>\n",
       "      <td>21005700.0</td>\n",
       "    </tr>\n",
       "    <tr>\n",
       "      <th>34</th>\n",
       "      <td>Major Pharmaceuticals</td>\n",
       "      <td>16842400.0</td>\n",
       "    </tr>\n",
       "    <tr>\n",
       "      <th>51</th>\n",
       "      <td>Real Estate Investment Trusts</td>\n",
       "      <td>12189200.0</td>\n",
       "    </tr>\n",
       "    <tr>\n",
       "      <th>47</th>\n",
       "      <td>Property-Casualty Insurers</td>\n",
       "      <td>6203200.0</td>\n",
       "    </tr>\n",
       "    <tr>\n",
       "      <th>6</th>\n",
       "      <td>Beverages (Production/Distribution)</td>\n",
       "      <td>5558400.0</td>\n",
       "    </tr>\n",
       "  </tbody>\n",
       "</table>\n",
       "</div>"
      ],
      "text/plain": [
       "                               industry     amt_due\n",
       "32                          Major Banks  21005700.0\n",
       "34                Major Pharmaceuticals  16842400.0\n",
       "51        Real Estate Investment Trusts  12189200.0\n",
       "47           Property-Casualty Insurers   6203200.0\n",
       "6   Beverages (Production/Distribution)   5558400.0"
      ]
     },
     "execution_count": 7,
     "metadata": {},
     "output_type": "execute_result"
    },
    {
     "data": {
      "image/png": "[encoded data removed]",
      "text/plain": [
       "<Figure size 1440x720 with 1 Axes>"
      ]
     },
     "metadata": {
      "needs_background": "light"
     },
     "output_type": "display_data"
    }
   ],
   "source": [
    "df_work = df_detail.groupby('industry', as_index=False).agg({'amt_due':'sum'}).sort_values('amt_due', ascending=False)#.plot.bar(y = 'amt_due', x= 'industry')\n",
    "df_work[0:5].plot.bar(y = 'amt_due', x= 'industry',figsize=(20,10))\n",
    "df_work[0:5]\n"
   ]
  },
  {
   "cell_type": "code",
   "execution_count": 8,
   "metadata": {},
   "outputs": [
    {
     "data": {
      "text/html": [
       "<div>\n",
       "<style scoped>\n",
       "    .dataframe tbody tr th:only-of-type {\n",
       "        vertical-align: middle;\n",
       "    }\n",
       "\n",
       "    .dataframe tbody tr th {\n",
       "        vertical-align: top;\n",
       "    }\n",
       "\n",
       "    .dataframe thead th {\n",
       "        text-align: right;\n",
       "    }\n",
       "</style>\n",
       "<table border=\"1\" class=\"dataframe\">\n",
       "  <thead>\n",
       "    <tr style=\"text-align: right;\">\n",
       "      <th></th>\n",
       "      <th>industry</th>\n",
       "      <th>amt_due</th>\n",
       "    </tr>\n",
       "  </thead>\n",
       "  <tbody>\n",
       "    <tr>\n",
       "      <th>29</th>\n",
       "      <td>Integrated oil Companies</td>\n",
       "      <td>621500.0</td>\n",
       "    </tr>\n",
       "    <tr>\n",
       "      <th>8</th>\n",
       "      <td>Biotechnology: In Vitro &amp; In Vivo Diagnostic S...</td>\n",
       "      <td>561300.0</td>\n",
       "    </tr>\n",
       "    <tr>\n",
       "      <th>4</th>\n",
       "      <td>Auto Parts:O.E.M.</td>\n",
       "      <td>552800.0</td>\n",
       "    </tr>\n",
       "    <tr>\n",
       "      <th>45</th>\n",
       "      <td>Packaged Foods</td>\n",
       "      <td>540800.0</td>\n",
       "    </tr>\n",
       "    <tr>\n",
       "      <th>21</th>\n",
       "      <td>Electronic Components</td>\n",
       "      <td>329500.0</td>\n",
       "    </tr>\n",
       "  </tbody>\n",
       "</table>\n",
       "</div>"
      ],
      "text/plain": [
       "                                             industry   amt_due\n",
       "29                           Integrated oil Companies  621500.0\n",
       "8   Biotechnology: In Vitro & In Vivo Diagnostic S...  561300.0\n",
       "4                                   Auto Parts:O.E.M.  552800.0\n",
       "45                                     Packaged Foods  540800.0\n",
       "21                              Electronic Components  329500.0"
      ]
     },
     "execution_count": 8,
     "metadata": {},
     "output_type": "execute_result"
    }
   ],
   "source": [
    "df_work.tail()"
   ]
  },
  {
   "cell_type": "markdown",
   "metadata": {},
   "source": [
    "# Which States Have the Most Amount Due?\n",
    "\n",
    "### As you can see in the bar graph, Texas has the most amount of money due. This is important to figure out as we can continue to target the states where we make a lot of money so that our bottom line can increase year to year."
   ]
  },
  {
   "cell_type": "code",
   "execution_count": 9,
   "metadata": {},
   "outputs": [
    {
     "data": {
      "text/html": [
       "<div>\n",
       "<style scoped>\n",
       "    .dataframe tbody tr th:only-of-type {\n",
       "        vertical-align: middle;\n",
       "    }\n",
       "\n",
       "    .dataframe tbody tr th {\n",
       "        vertical-align: top;\n",
       "    }\n",
       "\n",
       "    .dataframe thead th {\n",
       "        text-align: right;\n",
       "    }\n",
       "</style>\n",
       "<table border=\"1\" class=\"dataframe\">\n",
       "  <thead>\n",
       "    <tr style=\"text-align: right;\">\n",
       "      <th></th>\n",
       "      <th>state</th>\n",
       "      <th>amt_due</th>\n",
       "    </tr>\n",
       "  </thead>\n",
       "  <tbody>\n",
       "    <tr>\n",
       "      <th>34</th>\n",
       "      <td>TX</td>\n",
       "      <td>24602200.0</td>\n",
       "    </tr>\n",
       "    <tr>\n",
       "      <th>4</th>\n",
       "      <td>CA</td>\n",
       "      <td>22211000.0</td>\n",
       "    </tr>\n",
       "    <tr>\n",
       "      <th>9</th>\n",
       "      <td>FL</td>\n",
       "      <td>17522100.0</td>\n",
       "    </tr>\n",
       "    <tr>\n",
       "      <th>36</th>\n",
       "      <td>WA</td>\n",
       "      <td>13123600.0</td>\n",
       "    </tr>\n",
       "    <tr>\n",
       "      <th>14</th>\n",
       "      <td>KS</td>\n",
       "      <td>10708400.0</td>\n",
       "    </tr>\n",
       "  </tbody>\n",
       "</table>\n",
       "</div>"
      ],
      "text/plain": [
       "   state     amt_due\n",
       "34    TX  24602200.0\n",
       "4     CA  22211000.0\n",
       "9     FL  17522100.0\n",
       "36    WA  13123600.0\n",
       "14    KS  10708400.0"
      ]
     },
     "execution_count": 9,
     "metadata": {},
     "output_type": "execute_result"
    },
    {
     "data": {
      "image/png": "[encoded data removed]",
      "text/plain": [
       "<Figure size 1440x720 with 1 Axes>"
      ]
     },
     "metadata": {
      "needs_background": "light"
     },
     "output_type": "display_data"
    }
   ],
   "source": [
    "df_work = df_detail.groupby('state', as_index=False).agg({'amt_due':'sum'}).sort_values('amt_due', ascending=False)#.plot.bar(y = 'amt_due', x= 'industry')\n",
    "df_work[0:5].plot.bar(y = 'amt_due', x= 'state',figsize=(20,10))\n",
    "df_work[0:5]"
   ]
  },
  {
   "cell_type": "markdown",
   "metadata": {},
   "source": [
    "# Which Customers Have the Most Amount Due?\n",
    "\n",
    "### Those email addresses (listed below) owe the most. It could be useful to know this as it lets you know who the most profitable customers are."
   ]
  },
  {
   "cell_type": "code",
   "execution_count": 10,
   "metadata": {},
   "outputs": [
    {
     "data": {
      "text/html": [
       "<div>\n",
       "<style scoped>\n",
       "    .dataframe tbody tr th:only-of-type {\n",
       "        vertical-align: middle;\n",
       "    }\n",
       "\n",
       "    .dataframe tbody tr th {\n",
       "        vertical-align: top;\n",
       "    }\n",
       "\n",
       "    .dataframe thead th {\n",
       "        text-align: right;\n",
       "    }\n",
       "</style>\n",
       "<table border=\"1\" class=\"dataframe\">\n",
       "  <thead>\n",
       "    <tr style=\"text-align: right;\">\n",
       "      <th></th>\n",
       "      <th>email</th>\n",
       "      <th>amt_due</th>\n",
       "    </tr>\n",
       "  </thead>\n",
       "  <tbody>\n",
       "    <tr>\n",
       "      <th>185</th>\n",
       "      <td>vannis4v@discuz.net</td>\n",
       "      <td>3181600.0</td>\n",
       "    </tr>\n",
       "    <tr>\n",
       "      <th>152</th>\n",
       "      <td>pkighly3s@nifty.com</td>\n",
       "      <td>3011100.0</td>\n",
       "    </tr>\n",
       "    <tr>\n",
       "      <th>108</th>\n",
       "      <td>klearmond3a@fotki.com</td>\n",
       "      <td>3007800.0</td>\n",
       "    </tr>\n",
       "    <tr>\n",
       "      <th>37</th>\n",
       "      <td>cmcmurrugh1l@dailymail.co.uk</td>\n",
       "      <td>2773200.0</td>\n",
       "    </tr>\n",
       "    <tr>\n",
       "      <th>140</th>\n",
       "      <td>mwilliams1y@e-recht24.de</td>\n",
       "      <td>2673500.0</td>\n",
       "    </tr>\n",
       "    <tr>\n",
       "      <th>107</th>\n",
       "      <td>kklageman52@about.me</td>\n",
       "      <td>2630500.0</td>\n",
       "    </tr>\n",
       "    <tr>\n",
       "      <th>150</th>\n",
       "      <td>pbawcock1a@ycombinator.com</td>\n",
       "      <td>2611800.0</td>\n",
       "    </tr>\n",
       "    <tr>\n",
       "      <th>80</th>\n",
       "      <td>hslatter5h@youtube.com</td>\n",
       "      <td>2544800.0</td>\n",
       "    </tr>\n",
       "    <tr>\n",
       "      <th>110</th>\n",
       "      <td>kyerson0@bizjournals.com</td>\n",
       "      <td>2407800.0</td>\n",
       "    </tr>\n",
       "    <tr>\n",
       "      <th>164</th>\n",
       "      <td>rrobynsm@ca.gov</td>\n",
       "      <td>2359600.0</td>\n",
       "    </tr>\n",
       "  </tbody>\n",
       "</table>\n",
       "</div>"
      ],
      "text/plain": [
       "                            email    amt_due\n",
       "185           vannis4v@discuz.net  3181600.0\n",
       "152           pkighly3s@nifty.com  3011100.0\n",
       "108         klearmond3a@fotki.com  3007800.0\n",
       "37   cmcmurrugh1l@dailymail.co.uk  2773200.0\n",
       "140      mwilliams1y@e-recht24.de  2673500.0\n",
       "107          kklageman52@about.me  2630500.0\n",
       "150    pbawcock1a@ycombinator.com  2611800.0\n",
       "80         hslatter5h@youtube.com  2544800.0\n",
       "110      kyerson0@bizjournals.com  2407800.0\n",
       "164               rrobynsm@ca.gov  2359600.0"
      ]
     },
     "execution_count": 10,
     "metadata": {},
     "output_type": "execute_result"
    },
    {
     "data": {
      "image/png": "[encoded data removed]",
      "text/plain": [
       "<Figure size 1440x720 with 1 Axes>"
      ]
     },
     "metadata": {
      "needs_background": "light"
     },
     "output_type": "display_data"
    }
   ],
   "source": [
    "df_work = df_detail.groupby('email', as_index=False).agg({'amt_due':'sum'}).sort_values('amt_due', ascending=False)#.plot.bar(y = 'amt_due', x= 'industry')\n",
    "df_work[0:10].plot.bar(y = 'amt_due', x= 'email',figsize=(20,10))\n",
    "df_work.head(10)"
   ]
  },
  {
   "cell_type": "code",
   "execution_count": null,
   "metadata": {},
   "outputs": [],
   "source": []
  }
 ],
 "metadata": {
  "kernelspec": {
   "display_name": "Python 3",
   "language": "python",
   "name": "python3"
  },
  "language_info": {
   "codemirror_mode": {
    "name": "ipython",
    "version": 3
   },
   "file_extension": ".py",
   "mimetype": "text/x-python",
   "name": "python",
   "nbconvert_exporter": "python",
   "pygments_lexer": "ipython3",
   "version": "3.8.3"
  }
 },
 "nbformat": 4,
 "nbformat_minor": 4
}
